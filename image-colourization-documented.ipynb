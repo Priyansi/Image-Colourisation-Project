{
 "cells": [
  {
   "cell_type": "code",
   "execution_count": 1,
   "metadata": {
    "_cell_guid": "b1076dfc-b9ad-4769-8c92-a6c4dae69d19",
    "_uuid": "8f2839f25d086af736a60e9eeb907d3b93b6e0e5",
    "execution": {
     "iopub.execute_input": "2020-08-22T14:51:42.305967Z",
     "iopub.status.busy": "2020-08-22T14:51:42.305043Z",
     "iopub.status.idle": "2020-08-22T14:51:42.308017Z",
     "shell.execute_reply": "2020-08-22T14:51:42.307452Z"
    },
    "papermill": {
     "duration": 0.020028,
     "end_time": "2020-08-22T14:51:42.308128",
     "exception": false,
     "start_time": "2020-08-22T14:51:42.288100",
     "status": "completed"
    },
    "tags": []
   },
   "outputs": [],
   "source": [
    "# This Python 3 environment comes with many helpful analytics libraries installed\n",
    "# It is defined by the kaggle/python Docker image: https://github.com/kaggle/docker-python\n",
    "# For example, here's several helpful packages to load\n",
    "\n",
    "import numpy as np # linear algebra\n",
    "import pandas as pd # data processing, CSV file I/O (e.g. pd.read_csv)\n",
    "\n",
    "# Input data files are available in the read-only \"../input/\" directory\n",
    "# For example, running this (by clicking run or pressing Shift+Enter) will list all files under the input directory\n",
    "\n",
    "import os\n",
    "#for dirname, _, filenames in os.walk('/kaggle/input'):\n",
    " #   for filename in filenames:\n",
    "  #      print(os.path.join(dirname, filename))\n",
    "\n",
    "# You can write up to 5GB to the current directory (/kaggle/working/) that gets preserved as output when you create a version using \"Save & Run All\" \n",
    "# You can also write temporary files to /kaggle/temp/, but they won't be saved outside of the current session"
   ]
  },
  {
   "cell_type": "markdown",
   "execution_count": null,
   "metadata": {
    "papermill": {
     "duration": 0.012052,
     "end_time": "2020-08-22T14:51:42.331550",
     "exception": false,
     "start_time": "2020-08-22T14:51:42.319498",
     "status": "completed"
    },
    "tags": []
   },
   "source": [
    "# Loading the Data\n",
    "Importing all the necessary libraries required to run the following code for image colourization."
   ]
  },
  {
   "cell_type": "code",
   "execution_count": 2,
   "metadata": {
    "execution": {
     "iopub.execute_input": "2020-08-22T14:51:42.359356Z",
     "iopub.status.busy": "2020-08-22T14:51:42.358616Z",
     "iopub.status.idle": "2020-08-22T14:51:44.334467Z",
     "shell.execute_reply": "2020-08-22T14:51:44.333832Z"
    },
    "papermill": {
     "duration": 1.992486,
     "end_time": "2020-08-22T14:51:44.334581",
     "exception": false,
     "start_time": "2020-08-22T14:51:42.342095",
     "status": "completed"
    },
    "tags": []
   },
   "outputs": [],
   "source": [
    "from torchvision.datasets import ImageFolder\n",
    "import torchvision.transforms as T\n",
    "import torch\n",
    "import torch.nn as nn\n",
    "from torch.utils.data import DataLoader\n",
    "from torch.utils.data.dataset import random_split\n",
    "import torch.nn.functional as F\n",
    "from tqdm.notebook import tqdm\n",
    "import matplotlib.pyplot as plt\n",
    "from skimage.color import rgb2lab, lab2rgb, rgb2gray"
   ]
  },
  {
   "cell_type": "markdown",
   "execution_count": null,
   "metadata": {
    "papermill": {
     "duration": 0.010894,
     "end_time": "2020-08-22T14:51:44.359163",
     "exception": false,
     "start_time": "2020-08-22T14:51:44.348269",
     "status": "completed"
    },
    "tags": []
   },
   "source": [
    "Defining the directory for the dataset to be used. The dataset used here is a small 6 GB snippet of the ImageNet dataset. It has 2 classes: 'train' and 'val', containing 45000 and 5000 images respectively."
   ]
  },
  {
   "cell_type": "code",
   "execution_count": 3,
   "metadata": {
    "_cell_guid": "79c7e3d0-c299-4dcb-8224-4455121ee9b0",
    "_uuid": "d629ff2d2480ee46fbb7e2d37f6b5fab8052498a",
    "execution": {
     "iopub.execute_input": "2020-08-22T14:51:44.385920Z",
     "iopub.status.busy": "2020-08-22T14:51:44.385039Z",
     "iopub.status.idle": "2020-08-22T14:51:44.388029Z",
     "shell.execute_reply": "2020-08-22T14:51:44.387536Z"
    },
    "papermill": {
     "duration": 0.017752,
     "end_time": "2020-08-22T14:51:44.388127",
     "exception": false,
     "start_time": "2020-08-22T14:51:44.370375",
     "status": "completed"
    },
    "tags": []
   },
   "outputs": [],
   "source": [
    "DATA_DIR = '../input/imagenet/imagenet/'"
   ]
  },
  {
   "cell_type": "markdown",
   "execution_count": null,
   "metadata": {
    "papermill": {
     "duration": 0.010743,
     "end_time": "2020-08-22T14:51:44.409490",
     "exception": false,
     "start_time": "2020-08-22T14:51:44.398747",
     "status": "completed"
    },
    "tags": []
   },
   "source": [
    "Loading images contained in the data directory into a avriable called dataset using ImageFolder, and applying two transforms to all the images:\n",
    "1. Resizing the non-uniformly sized images into 256x256 images.\n",
    "2. Converting them into tensors."
   ]
  },
  {
   "cell_type": "code",
   "execution_count": 4,
   "metadata": {
    "execution": {
     "iopub.execute_input": "2020-08-22T14:51:44.435945Z",
     "iopub.status.busy": "2020-08-22T14:51:44.435379Z",
     "iopub.status.idle": "2020-08-22T14:52:08.927903Z",
     "shell.execute_reply": "2020-08-22T14:52:08.927264Z"
    },
    "papermill": {
     "duration": 24.507303,
     "end_time": "2020-08-22T14:52:08.928018",
     "exception": false,
     "start_time": "2020-08-22T14:51:44.420715",
     "status": "completed"
    },
    "tags": []
   },
   "outputs": [],
   "source": [
    "dataset = ImageFolder(DATA_DIR, transform=T.Compose([T.Resize((256, 256)),T.ToTensor()]))"
   ]
  },
  {
   "cell_type": "markdown",
   "execution_count": null,
   "metadata": {
    "papermill": {
     "duration": 0.012059,
     "end_time": "2020-08-22T14:52:08.951255",
     "exception": false,
     "start_time": "2020-08-22T14:52:08.939196",
     "status": "completed"
    },
    "tags": []
   },
   "source": [
    "As mentioned above, the dataset has a total 50000 images."
   ]
  },
  {
   "cell_type": "code",
   "execution_count": 5,
   "metadata": {
    "execution": {
     "iopub.execute_input": "2020-08-22T14:52:08.980831Z",
     "iopub.status.busy": "2020-08-22T14:52:08.980218Z",
     "iopub.status.idle": "2020-08-22T14:52:08.986649Z",
     "shell.execute_reply": "2020-08-22T14:52:08.986079Z"
    },
    "papermill": {
     "duration": 0.02362,
     "end_time": "2020-08-22T14:52:08.986751",
     "exception": false,
     "start_time": "2020-08-22T14:52:08.963131",
     "status": "completed"
    },
    "tags": []
   },
   "outputs": [
    {
     "data": {
      "text/plain": [
       "50000"
      ]
     },
     "execution_count": 5,
     "metadata": {},
     "output_type": "execute_result"
    }
   ],
   "source": [
    "len(dataset)"
   ]
  },
  {
   "cell_type": "markdown",
   "execution_count": null,
   "metadata": {
    "papermill": {
     "duration": 0.011414,
     "end_time": "2020-08-22T14:52:09.009364",
     "exception": false,
     "start_time": "2020-08-22T14:52:08.997950",
     "status": "completed"
    },
    "tags": []
   },
   "source": [
    "Creating the training and validation sets. A seed 42 is set to have the same training and validation datasets each time the notebook is run, and the two datasets are split using the random_split function from the pytorch libraries."
   ]
  },
  {
   "cell_type": "code",
   "execution_count": 6,
   "metadata": {
    "execution": {
     "iopub.execute_input": "2020-08-22T14:52:09.038022Z",
     "iopub.status.busy": "2020-08-22T14:52:09.037280Z",
     "iopub.status.idle": "2020-08-22T14:52:09.058363Z",
     "shell.execute_reply": "2020-08-22T14:52:09.058918Z"
    },
    "papermill": {
     "duration": 0.038485,
     "end_time": "2020-08-22T14:52:09.059032",
     "exception": false,
     "start_time": "2020-08-22T14:52:09.020547",
     "status": "completed"
    },
    "tags": []
   },
   "outputs": [
    {
     "data": {
      "text/plain": [
       "(49000, 1000)"
      ]
     },
     "execution_count": 6,
     "metadata": {},
     "output_type": "execute_result"
    }
   ],
   "source": [
    "random_seed = 42\n",
    "torch.manual_seed(random_seed)\n",
    "\n",
    "val_size = 1000\n",
    "train_size = len(dataset) - val_size\n",
    "\n",
    "train_ds, val_ds = random_split(dataset, [train_size, val_size])\n",
    "len(train_ds), len(val_ds)"
   ]
  },
  {
   "cell_type": "markdown",
   "execution_count": null,
   "metadata": {
    "papermill": {
     "duration": 0.010927,
     "end_time": "2020-08-22T14:52:09.081630",
     "exception": false,
     "start_time": "2020-08-22T14:52:09.070703",
     "status": "completed"
    },
    "tags": []
   },
   "source": [
    "The batch size is set to be 128."
   ]
  },
  {
   "cell_type": "code",
   "execution_count": 7,
   "metadata": {
    "execution": {
     "iopub.execute_input": "2020-08-22T14:52:09.109262Z",
     "iopub.status.busy": "2020-08-22T14:52:09.108484Z",
     "iopub.status.idle": "2020-08-22T14:52:09.111503Z",
     "shell.execute_reply": "2020-08-22T14:52:09.110936Z"
    },
    "papermill": {
     "duration": 0.018277,
     "end_time": "2020-08-22T14:52:09.111589",
     "exception": false,
     "start_time": "2020-08-22T14:52:09.093312",
     "status": "completed"
    },
    "tags": []
   },
   "outputs": [],
   "source": [
    "batch_size = 128"
   ]
  },
  {
   "cell_type": "markdown",
   "execution_count": null,
   "metadata": {
    "papermill": {
     "duration": 0.01183,
     "end_time": "2020-08-22T14:52:09.134455",
     "exception": false,
     "start_time": "2020-08-22T14:52:09.122625",
     "status": "completed"
    },
    "tags": []
   },
   "source": [
    "Loading the training and validation datasets into the CPU using DataLoader."
   ]
  },
  {
   "cell_type": "code",
   "execution_count": 8,
   "metadata": {
    "execution": {
     "iopub.execute_input": "2020-08-22T14:52:09.163251Z",
     "iopub.status.busy": "2020-08-22T14:52:09.162390Z",
     "iopub.status.idle": "2020-08-22T14:52:09.165560Z",
     "shell.execute_reply": "2020-08-22T14:52:09.165003Z"
    },
    "papermill": {
     "duration": 0.019668,
     "end_time": "2020-08-22T14:52:09.165690",
     "exception": false,
     "start_time": "2020-08-22T14:52:09.146022",
     "status": "completed"
    },
    "tags": []
   },
   "outputs": [],
   "source": [
    "train_loader = DataLoader(train_ds, batch_size = batch_size, shuffle = True, num_workers = 4, pin_memory = True)\n",
    "val_loader = DataLoader(val_ds, batch_size = batch_size, num_workers = 4, pin_memory = True)"
   ]
  },
  {
   "cell_type": "markdown",
   "execution_count": null,
   "metadata": {
    "papermill": {
     "duration": 0.011612,
     "end_time": "2020-08-22T14:52:09.188933",
     "exception": false,
     "start_time": "2020-08-22T14:52:09.177321",
     "status": "completed"
    },
    "tags": []
   },
   "source": [
    "Make cuda(GPU) the device if availability permits."
   ]
  },
  {
   "cell_type": "code",
   "execution_count": 9,
   "metadata": {
    "execution": {
     "iopub.execute_input": "2020-08-22T14:52:09.565583Z",
     "iopub.status.busy": "2020-08-22T14:52:09.562427Z",
     "iopub.status.idle": "2020-08-22T14:52:09.575078Z",
     "shell.execute_reply": "2020-08-22T14:52:09.576033Z"
    },
    "papermill": {
     "duration": 0.375682,
     "end_time": "2020-08-22T14:52:09.576253",
     "exception": false,
     "start_time": "2020-08-22T14:52:09.200571",
     "status": "completed"
    },
    "tags": []
   },
   "outputs": [
    {
     "data": {
      "text/plain": [
       "device(type='cuda')"
      ]
     },
     "execution_count": 9,
     "metadata": {},
     "output_type": "execute_result"
    }
   ],
   "source": [
    "device = torch.device('cuda') if torch.cuda.is_available() else torch.device('cpu')\n",
    "device"
   ]
  },
  {
   "cell_type": "markdown",
   "execution_count": null,
   "metadata": {
    "papermill": {
     "duration": 0.018322,
     "end_time": "2020-08-22T14:52:09.617444",
     "exception": false,
     "start_time": "2020-08-22T14:52:09.599122",
     "status": "completed"
    },
    "tags": []
   },
   "source": [
    "Define a function to load data into the device assigned above."
   ]
  },
  {
   "cell_type": "code",
   "execution_count": 10,
   "metadata": {
    "execution": {
     "iopub.execute_input": "2020-08-22T14:52:09.658904Z",
     "iopub.status.busy": "2020-08-22T14:52:09.657962Z",
     "iopub.status.idle": "2020-08-22T14:52:09.661934Z",
     "shell.execute_reply": "2020-08-22T14:52:09.662593Z"
    },
    "papermill": {
     "duration": 0.029018,
     "end_time": "2020-08-22T14:52:09.662791",
     "exception": false,
     "start_time": "2020-08-22T14:52:09.633773",
     "status": "completed"
    },
    "tags": []
   },
   "outputs": [],
   "source": [
    "def to_device(data, device):\n",
    "    if isinstance(data, (list, tuple)):\n",
    "        return [to_device(x, device) for x in data]\n",
    "    return data.to(device, non_blocking = True)"
   ]
  },
  {
   "cell_type": "markdown",
   "execution_count": null,
   "metadata": {
    "papermill": {
     "duration": 0.018297,
     "end_time": "2020-08-22T14:52:09.699843",
     "exception": false,
     "start_time": "2020-08-22T14:52:09.681546",
     "status": "completed"
    },
    "tags": []
   },
   "source": [
    "Define a class to load data into a GPU, if it's available, otherwise into a CPU."
   ]
  },
  {
   "cell_type": "code",
   "execution_count": 11,
   "metadata": {
    "execution": {
     "iopub.execute_input": "2020-08-22T14:52:09.744139Z",
     "iopub.status.busy": "2020-08-22T14:52:09.743244Z",
     "iopub.status.idle": "2020-08-22T14:52:09.748616Z",
     "shell.execute_reply": "2020-08-22T14:52:09.749395Z"
    },
    "papermill": {
     "duration": 0.032118,
     "end_time": "2020-08-22T14:52:09.749570",
     "exception": false,
     "start_time": "2020-08-22T14:52:09.717452",
     "status": "completed"
    },
    "tags": []
   },
   "outputs": [],
   "source": [
    "class DeviceDataLoader():\n",
    "    def __init__(self, dl, device):\n",
    "        self.dl = dl\n",
    "        self.device = device\n",
    "\n",
    "    def __iter__(self):\n",
    "        for batch in self.dl:\n",
    "            yield to_device(batch, self.device)\n",
    "  \n",
    "    def __len__(self):\n",
    "        return len(self.dl)"
   ]
  },
  {
   "cell_type": "markdown",
   "execution_count": null,
   "metadata": {
    "papermill": {
     "duration": 0.016033,
     "end_time": "2020-08-22T14:52:09.782630",
     "exception": false,
     "start_time": "2020-08-22T14:52:09.766597",
     "status": "completed"
    },
    "tags": []
   },
   "source": [
    "Since we are using a GPU, load the training and validation datasets into cuda(the selected device)."
   ]
  },
  {
   "cell_type": "code",
   "execution_count": 12,
   "metadata": {
    "execution": {
     "iopub.execute_input": "2020-08-22T14:52:09.823892Z",
     "iopub.status.busy": "2020-08-22T14:52:09.822993Z",
     "iopub.status.idle": "2020-08-22T14:52:09.825538Z",
     "shell.execute_reply": "2020-08-22T14:52:09.824699Z"
    },
    "papermill": {
     "duration": 0.026386,
     "end_time": "2020-08-22T14:52:09.825686",
     "exception": false,
     "start_time": "2020-08-22T14:52:09.799300",
     "status": "completed"
    },
    "tags": []
   },
   "outputs": [],
   "source": [
    "train_loader = DeviceDataLoader(train_loader, device)\n",
    "val_loader = DeviceDataLoader(val_loader, device)"
   ]
  },
  {
   "cell_type": "markdown",
   "execution_count": null,
   "metadata": {
    "papermill": {
     "duration": 0.017339,
     "end_time": "2020-08-22T14:52:09.860194",
     "exception": false,
     "start_time": "2020-08-22T14:52:09.842855",
     "status": "completed"
    },
    "tags": []
   },
   "source": [
    "# Defining the Model\n",
    "The images are originally using the RGB colormodel. But for the purpose of image colourization, they have to be converted to Lab. The CIELAB is a colorspace which has 3 channels: L, a, and b. The function defined below converts images from RGB to CIELAB, and then splits the L and ab channels into the variables X and Y respectively. The range of ab channels is from -128 to 127, hence, the ab channels are normalized by dividing it by 128. The function returns finally returns X and Y loaded into cuda."
   ]
  },
  {
   "cell_type": "code",
   "execution_count": 13,
   "metadata": {
    "execution": {
     "iopub.execute_input": "2020-08-22T14:52:09.917852Z",
     "iopub.status.busy": "2020-08-22T14:52:09.912950Z",
     "iopub.status.idle": "2020-08-22T14:52:09.921144Z",
     "shell.execute_reply": "2020-08-22T14:52:09.922155Z"
    },
    "papermill": {
     "duration": 0.040417,
     "end_time": "2020-08-22T14:52:09.922307",
     "exception": false,
     "start_time": "2020-08-22T14:52:09.881890",
     "status": "completed"
    },
    "tags": []
   },
   "outputs": [],
   "source": [
    "def generate_l_ab(images): \n",
    "    lab = rgb2lab(images.permute(0, 2, 3, 1).cpu().numpy())\n",
    "    X = lab[:,:,:,0]\n",
    "    X = X.reshape(X.shape+(1,))\n",
    "    Y = lab[:,:,:,1:] / 128\n",
    "    return to_device(torch.tensor(X, dtype = torch.float).permute(0, 3, 1, 2), device),to_device(torch.tensor(Y, dtype = torch.float).permute(0, 3, 1, 2), device)"
   ]
  },
  {
   "cell_type": "markdown",
   "execution_count": null,
   "metadata": {
    "papermill": {
     "duration": 0.021123,
     "end_time": "2020-08-22T14:52:09.964680",
     "exception": false,
     "start_time": "2020-08-22T14:52:09.943557",
     "status": "completed"
    },
    "tags": []
   },
   "source": [
    "The Base Model class is defined as containing three functions. \n",
    "1. The *training_batch* function takes the batch of 128 images as input, generates the values of L and ab channels using the *generate_l_ab* function, gets the predicted ab channels using the forward function of the model, and calculates the MSE Loss between the actual and predicted ab channels.\n",
    "2. The *validation_batch* functions performs the same task as the *training_batch* function, except for the images in the validation dataset, which is evident from the function names.\n",
    "3. The function *validation_end_epoch* returns the average loss on the validation dataset."
   ]
  },
  {
   "cell_type": "code",
   "execution_count": 14,
   "metadata": {
    "execution": {
     "iopub.execute_input": "2020-08-22T14:52:10.031094Z",
     "iopub.status.busy": "2020-08-22T14:52:10.030208Z",
     "iopub.status.idle": "2020-08-22T14:52:10.033539Z",
     "shell.execute_reply": "2020-08-22T14:52:10.034630Z"
    },
    "papermill": {
     "duration": 0.044253,
     "end_time": "2020-08-22T14:52:10.034827",
     "exception": false,
     "start_time": "2020-08-22T14:52:09.990574",
     "status": "completed"
    },
    "tags": []
   },
   "outputs": [],
   "source": [
    "class BaseModel(nn.Module):\n",
    "    def training_batch(self, batch):\n",
    "        images, _ = batch\n",
    "        X, Y = generate_l_ab(images)\n",
    "        outputs = self.forward(X)\n",
    "        loss = F.mse_loss(outputs, Y)\n",
    "        return loss\n",
    "\n",
    "    def validation_batch(self, batch):\n",
    "        images, _ = batch\n",
    "        X, Y = generate_l_ab(images)\n",
    "        outputs = self.forward(X)\n",
    "        loss = F.mse_loss(outputs, Y)\n",
    "        return {'val_loss' : loss.item()}\n",
    "\n",
    "    def validation_end_epoch(self, outputs):\n",
    "        epoch_loss = sum([x['val_loss'] for x in outputs]) / len(outputs)\n",
    "        return {'epoch_loss' : epoch_loss}"
   ]
  },
  {
   "cell_type": "markdown",
   "execution_count": null,
   "metadata": {
    "papermill": {
     "duration": 0.011923,
     "end_time": "2020-08-22T14:52:10.065361",
     "exception": false,
     "start_time": "2020-08-22T14:52:10.053438",
     "status": "completed"
    },
    "tags": []
   },
   "source": [
    "A helper function is defined to get the appropriate padding in order to keep the size of the output image same as the input image during convolution."
   ]
  },
  {
   "cell_type": "code",
   "execution_count": 15,
   "metadata": {
    "execution": {
     "iopub.execute_input": "2020-08-22T14:52:10.096542Z",
     "iopub.status.busy": "2020-08-22T14:52:10.095673Z",
     "iopub.status.idle": "2020-08-22T14:52:10.098400Z",
     "shell.execute_reply": "2020-08-22T14:52:10.097833Z"
    },
    "papermill": {
     "duration": 0.020615,
     "end_time": "2020-08-22T14:52:10.098496",
     "exception": false,
     "start_time": "2020-08-22T14:52:10.077881",
     "status": "completed"
    },
    "tags": []
   },
   "outputs": [],
   "source": [
    "def get_padding(kernel_size: int, stride: int = 1, dilation: int = 1, **_) -> int:\n",
    "    padding = ((stride - 1) + dilation * (kernel_size - 1)) // 2\n",
    "    return padding"
   ]
  },
  {
   "cell_type": "markdown",
   "execution_count": null,
   "metadata": {
    "papermill": {
     "duration": 0.013864,
     "end_time": "2020-08-22T14:52:10.125429",
     "exception": false,
     "start_time": "2020-08-22T14:52:10.111565",
     "status": "completed"
    },
    "tags": []
   },
   "source": [
    "The *Encoder_Decoder* class is an extension of the Base Model and it contains the code for the architecture of the model."
   ]
  },
  {
   "cell_type": "code",
   "execution_count": 16,
   "metadata": {
    "execution": {
     "iopub.execute_input": "2020-08-22T14:52:10.175519Z",
     "iopub.status.busy": "2020-08-22T14:52:10.173876Z",
     "iopub.status.idle": "2020-08-22T14:52:10.176320Z",
     "shell.execute_reply": "2020-08-22T14:52:10.176795Z"
    },
    "papermill": {
     "duration": 0.035342,
     "end_time": "2020-08-22T14:52:10.176909",
     "exception": false,
     "start_time": "2020-08-22T14:52:10.141567",
     "status": "completed"
    },
    "tags": []
   },
   "outputs": [],
   "source": [
    "class Encoder_Decoder(BaseModel):\n",
    "    def __init__(self):\n",
    "        super().__init__()\n",
    "        self.network = nn.Sequential(\n",
    "            nn.Conv2d(1, 64, kernel_size = 3, stride = 2, padding = get_padding(3, 2)),\n",
    "            nn.ReLU(),\n",
    "            nn.BatchNorm2d(64),\n",
    "            nn.Conv2d(64, 128, kernel_size = 3, padding = get_padding(3)),\n",
    "            nn.ReLU(),\n",
    "            nn.BatchNorm2d(128),\n",
    "        \n",
    "            nn.Conv2d(128, 128, kernel_size = 3, stride = 2, padding = get_padding(3, 2)),\n",
    "            nn.ReLU(),\n",
    "            nn.BatchNorm2d(128),\n",
    "            nn.Conv2d(128, 256, kernel_size = 3, padding = get_padding(3)),\n",
    "            nn.ReLU(),\n",
    "            nn.BatchNorm2d(256),\n",
    "        \n",
    "            nn.Conv2d(256, 256, kernel_size = 3, stride = 2, padding = get_padding(3, 2)),\n",
    "            nn.ReLU(),\n",
    "            nn.BatchNorm2d(256),\n",
    "            nn.Conv2d(256, 512, kernel_size = 3, padding = get_padding(3)),\n",
    "            nn.ReLU(),\n",
    "            nn.BatchNorm2d(512),\n",
    "            \n",
    "            nn.Conv2d(512, 512, kernel_size = 3, padding = get_padding(3)),\n",
    "            nn.ReLU(),\n",
    "            nn.BatchNorm2d(512),\n",
    "            nn.Conv2d(512, 256, kernel_size = 3, padding = get_padding(3)),\n",
    "            nn.ReLU(),\n",
    "            nn.BatchNorm2d(256),\n",
    "        \n",
    "            nn.Conv2d(256, 128, kernel_size = 3, padding = get_padding(3)),\n",
    "            nn.Upsample(size = (64,64)),\n",
    "            nn.Conv2d(128, 64, kernel_size = 3, padding = get_padding(3)),\n",
    "            nn.Upsample(size = (128,128)),\n",
    "            nn.Conv2d(64, 32, kernel_size = 3, padding = get_padding(3)),\n",
    "            nn.Conv2d(32, 16, kernel_size = 3, padding = get_padding(3)),\n",
    "            nn.Conv2d(16, 2, kernel_size = 3, padding = get_padding(3)),\n",
    "            nn.Tanh(),\n",
    "            nn.Upsample(size = (256,256))\n",
    "    )\n",
    "\n",
    "    def forward(self, images):\n",
    "        return self.network(images)     \n",
    "    "
   ]
  },
  {
   "cell_type": "markdown",
   "execution_count": null,
   "metadata": {
    "papermill": {
     "duration": 0.012912,
     "end_time": "2020-08-22T14:52:10.202543",
     "exception": false,
     "start_time": "2020-08-22T14:52:10.189631",
     "status": "completed"
    },
    "tags": []
   },
   "source": [
    "The model is defined and loaded to cuda."
   ]
  },
  {
   "cell_type": "code",
   "execution_count": 17,
   "metadata": {
    "execution": {
     "iopub.execute_input": "2020-08-22T14:52:10.240062Z",
     "iopub.status.busy": "2020-08-22T14:52:10.239453Z",
     "iopub.status.idle": "2020-08-22T14:52:15.036870Z",
     "shell.execute_reply": "2020-08-22T14:52:15.036375Z"
    },
    "papermill": {
     "duration": 4.821285,
     "end_time": "2020-08-22T14:52:15.036987",
     "exception": false,
     "start_time": "2020-08-22T14:52:10.215702",
     "status": "completed"
    },
    "tags": []
   },
   "outputs": [
    {
     "data": {
      "text/plain": [
       "Encoder_Decoder(\n",
       "  (network): Sequential(\n",
       "    (0): Conv2d(1, 64, kernel_size=(3, 3), stride=(2, 2), padding=(1, 1))\n",
       "    (1): ReLU()\n",
       "    (2): BatchNorm2d(64, eps=1e-05, momentum=0.1, affine=True, track_running_stats=True)\n",
       "    (3): Conv2d(64, 128, kernel_size=(3, 3), stride=(1, 1), padding=(1, 1))\n",
       "    (4): ReLU()\n",
       "    (5): BatchNorm2d(128, eps=1e-05, momentum=0.1, affine=True, track_running_stats=True)\n",
       "    (6): Conv2d(128, 128, kernel_size=(3, 3), stride=(2, 2), padding=(1, 1))\n",
       "    (7): ReLU()\n",
       "    (8): BatchNorm2d(128, eps=1e-05, momentum=0.1, affine=True, track_running_stats=True)\n",
       "    (9): Conv2d(128, 256, kernel_size=(3, 3), stride=(1, 1), padding=(1, 1))\n",
       "    (10): ReLU()\n",
       "    (11): BatchNorm2d(256, eps=1e-05, momentum=0.1, affine=True, track_running_stats=True)\n",
       "    (12): Conv2d(256, 256, kernel_size=(3, 3), stride=(2, 2), padding=(1, 1))\n",
       "    (13): ReLU()\n",
       "    (14): BatchNorm2d(256, eps=1e-05, momentum=0.1, affine=True, track_running_stats=True)\n",
       "    (15): Conv2d(256, 512, kernel_size=(3, 3), stride=(1, 1), padding=(1, 1))\n",
       "    (16): ReLU()\n",
       "    (17): BatchNorm2d(512, eps=1e-05, momentum=0.1, affine=True, track_running_stats=True)\n",
       "    (18): Conv2d(512, 512, kernel_size=(3, 3), stride=(1, 1), padding=(1, 1))\n",
       "    (19): ReLU()\n",
       "    (20): BatchNorm2d(512, eps=1e-05, momentum=0.1, affine=True, track_running_stats=True)\n",
       "    (21): Conv2d(512, 256, kernel_size=(3, 3), stride=(1, 1), padding=(1, 1))\n",
       "    (22): ReLU()\n",
       "    (23): BatchNorm2d(256, eps=1e-05, momentum=0.1, affine=True, track_running_stats=True)\n",
       "    (24): Conv2d(256, 128, kernel_size=(3, 3), stride=(1, 1), padding=(1, 1))\n",
       "    (25): Upsample(size=(64, 64), mode=nearest)\n",
       "    (26): Conv2d(128, 64, kernel_size=(3, 3), stride=(1, 1), padding=(1, 1))\n",
       "    (27): Upsample(size=(128, 128), mode=nearest)\n",
       "    (28): Conv2d(64, 32, kernel_size=(3, 3), stride=(1, 1), padding=(1, 1))\n",
       "    (29): Conv2d(32, 16, kernel_size=(3, 3), stride=(1, 1), padding=(1, 1))\n",
       "    (30): Conv2d(16, 2, kernel_size=(3, 3), stride=(1, 1), padding=(1, 1))\n",
       "    (31): Tanh()\n",
       "    (32): Upsample(size=(256, 256), mode=nearest)\n",
       "  )\n",
       ")"
      ]
     },
     "execution_count": 17,
     "metadata": {},
     "output_type": "execute_result"
    }
   ],
   "source": [
    "model = Encoder_Decoder()\n",
    "to_device(model, device)"
   ]
  },
  {
   "cell_type": "markdown",
   "execution_count": null,
   "metadata": {
    "papermill": {
     "duration": 0.013795,
     "end_time": "2020-08-22T14:52:15.063864",
     "exception": false,
     "start_time": "2020-08-22T14:52:15.050069",
     "status": "completed"
    },
    "tags": []
   },
   "source": [
    "# Training the Model\n",
    "The *validate* and *fit* functions are defined to keep track of the loss and train the model."
   ]
  },
  {
   "cell_type": "code",
   "execution_count": 18,
   "metadata": {
    "execution": {
     "iopub.execute_input": "2020-08-22T14:52:15.100048Z",
     "iopub.status.busy": "2020-08-22T14:52:15.099264Z",
     "iopub.status.idle": "2020-08-22T14:52:15.102265Z",
     "shell.execute_reply": "2020-08-22T14:52:15.101658Z"
    },
    "papermill": {
     "duration": 0.025963,
     "end_time": "2020-08-22T14:52:15.102359",
     "exception": false,
     "start_time": "2020-08-22T14:52:15.076396",
     "status": "completed"
    },
    "tags": []
   },
   "outputs": [],
   "source": [
    "@torch.no_grad()\n",
    "def validate(model, val_loader):\n",
    "    model.eval()\n",
    "    outputs = [model.validation_batch(batch) for batch in val_loader]\n",
    "    return model.validation_end_epoch(outputs)\n",
    "\n",
    "def fit(model, epochs, learning_rate, train_loader, val_loader, optimization_func = torch.optim.SGD):\n",
    "    torch.cuda.empty_cache()\n",
    "    history = []\n",
    "    optimizer = optimization_func(model.parameters(), learning_rate)\n",
    "    for epoch in range(epochs):\n",
    "        train_losses = []\n",
    "        model.train()\n",
    "        for batch in tqdm(train_loader):\n",
    "            loss = model.training_batch(batch)\n",
    "            train_losses.append(loss)\n",
    "            loss.backward()\n",
    "            optimizer.step()\n",
    "            optimizer.zero_grad()\n",
    "        result = validate(model, val_loader)\n",
    "        result['train_loss'] = torch.stack(train_losses).mean().item()\n",
    "        history.append(result)\n",
    "        print('Epoch: {}, Train loss: {:.4f}, Validation loss: {:.4f}'.format(epoch, result['train_loss'], result['epoch_loss']))\n",
    "    return history"
   ]
  },
  {
   "cell_type": "markdown",
   "execution_count": null,
   "metadata": {
    "papermill": {
     "duration": 0.01214,
     "end_time": "2020-08-22T14:52:15.126970",
     "exception": false,
     "start_time": "2020-08-22T14:52:15.114830",
     "status": "completed"
    },
    "tags": []
   },
   "source": [
    "Initializing the loss."
   ]
  },
  {
   "cell_type": "code",
   "execution_count": 19,
   "metadata": {
    "execution": {
     "iopub.execute_input": "2020-08-22T14:52:15.159202Z",
     "iopub.status.busy": "2020-08-22T14:52:15.158560Z",
     "iopub.status.idle": "2020-08-22T14:52:42.207122Z",
     "shell.execute_reply": "2020-08-22T14:52:42.207823Z"
    },
    "papermill": {
     "duration": 27.068739,
     "end_time": "2020-08-22T14:52:42.207982",
     "exception": false,
     "start_time": "2020-08-22T14:52:15.139243",
     "status": "completed"
    },
    "tags": []
   },
   "outputs": [
    {
     "data": {
      "text/plain": [
       "[{'epoch_loss': 0.01800026441924274}]"
      ]
     },
     "execution_count": 19,
     "metadata": {},
     "output_type": "execute_result"
    }
   ],
   "source": [
    "history = [validate(model, val_loader)]\n",
    "history"
   ]
  },
  {
   "cell_type": "markdown",
   "execution_count": null,
   "metadata": {
    "papermill": {
     "duration": 0.012347,
     "end_time": "2020-08-22T14:52:42.233243",
     "exception": false,
     "start_time": "2020-08-22T14:52:42.220896",
     "status": "completed"
    },
    "tags": []
   },
   "source": [
    "Training."
   ]
  },
  {
   "cell_type": "code",
   "execution_count": 20,
   "metadata": {
    "execution": {
     "iopub.execute_input": "2020-08-22T14:52:42.291345Z",
     "iopub.status.busy": "2020-08-22T14:52:42.290407Z",
     "iopub.status.idle": "2020-08-22T18:02:13.963807Z",
     "shell.execute_reply": "2020-08-22T18:02:13.963111Z"
    },
    "papermill": {
     "duration": 11371.71817,
     "end_time": "2020-08-22T18:02:13.963976",
     "exception": false,
     "start_time": "2020-08-22T14:52:42.245806",
     "status": "completed"
    },
    "tags": []
   },
   "outputs": [
    {
     "data": {
      "application/vnd.jupyter.widget-view+json": {
       "model_id": "b94259ba630d46ea81309127c3893e94",
       "version_major": 2,
       "version_minor": 0
      },
      "text/plain": [
       "HBox(children=(FloatProgress(value=0.0, max=383.0), HTML(value='')))"
      ]
     },
     "metadata": {},
     "output_type": "display_data"
    },
    {
     "name": "stdout",
     "output_type": "stream",
     "text": [
      "\n",
      "Epoch: 0, Train loss: 0.0148, Validation loss: 0.0150\n"
     ]
    },
    {
     "data": {
      "application/vnd.jupyter.widget-view+json": {
       "model_id": "225354d2d85c491b91e203b32c2bd64a",
       "version_major": 2,
       "version_minor": 0
      },
      "text/plain": [
       "HBox(children=(FloatProgress(value=0.0, max=383.0), HTML(value='')))"
      ]
     },
     "metadata": {},
     "output_type": "display_data"
    },
    {
     "name": "stdout",
     "output_type": "stream",
     "text": [
      "\n",
      "Epoch: 1, Train loss: 0.0140, Validation loss: 0.0134\n"
     ]
    },
    {
     "data": {
      "application/vnd.jupyter.widget-view+json": {
       "model_id": "619171622075498cb0b1f2bf8e68fcc3",
       "version_major": 2,
       "version_minor": 0
      },
      "text/plain": [
       "HBox(children=(FloatProgress(value=0.0, max=383.0), HTML(value='')))"
      ]
     },
     "metadata": {},
     "output_type": "display_data"
    },
    {
     "name": "stdout",
     "output_type": "stream",
     "text": [
      "\n",
      "Epoch: 2, Train loss: 0.0139, Validation loss: 0.0132\n"
     ]
    },
    {
     "data": {
      "application/vnd.jupyter.widget-view+json": {
       "model_id": "46e021f44de14146b36d78a301e2ee4e",
       "version_major": 2,
       "version_minor": 0
      },
      "text/plain": [
       "HBox(children=(FloatProgress(value=0.0, max=383.0), HTML(value='')))"
      ]
     },
     "metadata": {},
     "output_type": "display_data"
    },
    {
     "name": "stdout",
     "output_type": "stream",
     "text": [
      "\n",
      "Epoch: 3, Train loss: 0.0138, Validation loss: 0.0133\n"
     ]
    },
    {
     "data": {
      "application/vnd.jupyter.widget-view+json": {
       "model_id": "d150abcbf63b4a15b138443721df6cbe",
       "version_major": 2,
       "version_minor": 0
      },
      "text/plain": [
       "HBox(children=(FloatProgress(value=0.0, max=383.0), HTML(value='')))"
      ]
     },
     "metadata": {},
     "output_type": "display_data"
    },
    {
     "name": "stdout",
     "output_type": "stream",
     "text": [
      "\n",
      "Epoch: 4, Train loss: 0.0138, Validation loss: 0.0132\n"
     ]
    }
   ],
   "source": [
    "history += fit(model, 5, 0.001, train_loader, val_loader, torch.optim.Adam)"
   ]
  },
  {
   "cell_type": "markdown",
   "execution_count": null,
   "metadata": {
    "papermill": {
     "duration": 0.013272,
     "end_time": "2020-08-22T18:02:13.992021",
     "exception": false,
     "start_time": "2020-08-22T18:02:13.978749",
     "status": "completed"
    },
    "tags": []
   },
   "source": [
    "Saving the model to be able to continue training the model from the same point."
   ]
  },
  {
   "cell_type": "code",
   "execution_count": 21,
   "metadata": {
    "execution": {
     "iopub.execute_input": "2020-08-22T18:02:14.036570Z",
     "iopub.status.busy": "2020-08-22T18:02:14.035779Z",
     "iopub.status.idle": "2020-08-22T18:02:14.077488Z",
     "shell.execute_reply": "2020-08-22T18:02:14.077002Z"
    },
    "papermill": {
     "duration": 0.072105,
     "end_time": "2020-08-22T18:02:14.077591",
     "exception": false,
     "start_time": "2020-08-22T18:02:14.005486",
     "status": "completed"
    },
    "tags": []
   },
   "outputs": [],
   "source": [
    "checkpoint = {'model': Encoder_Decoder(),\n",
    "              'state_dict': model.state_dict()}"
   ]
  },
  {
   "cell_type": "code",
   "execution_count": 22,
   "metadata": {
    "execution": {
     "iopub.execute_input": "2020-08-22T18:02:14.108609Z",
     "iopub.status.busy": "2020-08-22T18:02:14.108041Z",
     "iopub.status.idle": "2020-08-22T18:02:14.219070Z",
     "shell.execute_reply": "2020-08-22T18:02:14.219673Z"
    },
    "papermill": {
     "duration": 0.128762,
     "end_time": "2020-08-22T18:02:14.219871",
     "exception": false,
     "start_time": "2020-08-22T18:02:14.091109",
     "status": "completed"
    },
    "tags": []
   },
   "outputs": [
    {
     "name": "stderr",
     "output_type": "stream",
     "text": [
      "/opt/conda/lib/python3.7/site-packages/torch/serialization.py:402: UserWarning: Couldn't retrieve source code for container of type Encoder_Decoder. It won't be checked for correctness upon loading.\n",
      "  \"type \" + obj.__name__ + \". It won't be checked \"\n"
     ]
    }
   ],
   "source": [
    "torch.save(checkpoint, 'test.pth')"
   ]
  },
  {
   "cell_type": "markdown",
   "execution_count": null,
   "metadata": {
    "papermill": {
     "duration": 0.013698,
     "end_time": "2020-08-22T18:02:14.248083",
     "exception": false,
     "start_time": "2020-08-22T18:02:14.234385",
     "status": "completed"
    },
    "tags": []
   },
   "source": [
    "Loading the pth file to continue training from the same parameters onwards."
   ]
  },
  {
   "cell_type": "code",
   "execution_count": 23,
   "metadata": {
    "execution": {
     "iopub.execute_input": "2020-08-22T18:02:14.281267Z",
     "iopub.status.busy": "2020-08-22T18:02:14.280346Z",
     "iopub.status.idle": "2020-08-22T18:02:14.283752Z",
     "shell.execute_reply": "2020-08-22T18:02:14.284201Z"
    },
    "papermill": {
     "duration": 0.02263,
     "end_time": "2020-08-22T18:02:14.284324",
     "exception": false,
     "start_time": "2020-08-22T18:02:14.261694",
     "status": "completed"
    },
    "tags": []
   },
   "outputs": [],
   "source": [
    "def load_checkpoint(filepath):\n",
    "    checkpoint = torch.load(filepath)\n",
    "    model = checkpoint['model']\n",
    "    model.load_state_dict(checkpoint['state_dict'])\n",
    "    for parameter in model.parameters():\n",
    "        parameter.requires_grad = True\n",
    "    \n",
    "    model.eval()\n",
    "    \n",
    "    return model"
   ]
  },
  {
   "cell_type": "code",
   "execution_count": 24,
   "metadata": {
    "execution": {
     "iopub.execute_input": "2020-08-22T18:02:14.315281Z",
     "iopub.status.busy": "2020-08-22T18:02:14.314669Z",
     "iopub.status.idle": "2020-08-22T18:02:14.430560Z",
     "shell.execute_reply": "2020-08-22T18:02:14.431179Z"
    },
    "papermill": {
     "duration": 0.13343,
     "end_time": "2020-08-22T18:02:14.431324",
     "exception": false,
     "start_time": "2020-08-22T18:02:14.297894",
     "status": "completed"
    },
    "tags": []
   },
   "outputs": [
    {
     "name": "stdout",
     "output_type": "stream",
     "text": [
      "Encoder_Decoder(\n",
      "  (network): Sequential(\n",
      "    (0): Conv2d(1, 64, kernel_size=(3, 3), stride=(2, 2), padding=(1, 1))\n",
      "    (1): ReLU()\n",
      "    (2): BatchNorm2d(64, eps=1e-05, momentum=0.1, affine=True, track_running_stats=True)\n",
      "    (3): Conv2d(64, 128, kernel_size=(3, 3), stride=(1, 1), padding=(1, 1))\n",
      "    (4): ReLU()\n",
      "    (5): BatchNorm2d(128, eps=1e-05, momentum=0.1, affine=True, track_running_stats=True)\n",
      "    (6): Conv2d(128, 128, kernel_size=(3, 3), stride=(2, 2), padding=(1, 1))\n",
      "    (7): ReLU()\n",
      "    (8): BatchNorm2d(128, eps=1e-05, momentum=0.1, affine=True, track_running_stats=True)\n",
      "    (9): Conv2d(128, 256, kernel_size=(3, 3), stride=(1, 1), padding=(1, 1))\n",
      "    (10): ReLU()\n",
      "    (11): BatchNorm2d(256, eps=1e-05, momentum=0.1, affine=True, track_running_stats=True)\n",
      "    (12): Conv2d(256, 256, kernel_size=(3, 3), stride=(2, 2), padding=(1, 1))\n",
      "    (13): ReLU()\n",
      "    (14): BatchNorm2d(256, eps=1e-05, momentum=0.1, affine=True, track_running_stats=True)\n",
      "    (15): Conv2d(256, 512, kernel_size=(3, 3), stride=(1, 1), padding=(1, 1))\n",
      "    (16): ReLU()\n",
      "    (17): BatchNorm2d(512, eps=1e-05, momentum=0.1, affine=True, track_running_stats=True)\n",
      "    (18): Conv2d(512, 512, kernel_size=(3, 3), stride=(1, 1), padding=(1, 1))\n",
      "    (19): ReLU()\n",
      "    (20): BatchNorm2d(512, eps=1e-05, momentum=0.1, affine=True, track_running_stats=True)\n",
      "    (21): Conv2d(512, 256, kernel_size=(3, 3), stride=(1, 1), padding=(1, 1))\n",
      "    (22): ReLU()\n",
      "    (23): BatchNorm2d(256, eps=1e-05, momentum=0.1, affine=True, track_running_stats=True)\n",
      "    (24): Conv2d(256, 128, kernel_size=(3, 3), stride=(1, 1), padding=(1, 1))\n",
      "    (25): Upsample(size=(64, 64), mode=nearest)\n",
      "    (26): Conv2d(128, 64, kernel_size=(3, 3), stride=(1, 1), padding=(1, 1))\n",
      "    (27): Upsample(size=(128, 128), mode=nearest)\n",
      "    (28): Conv2d(64, 32, kernel_size=(3, 3), stride=(1, 1), padding=(1, 1))\n",
      "    (29): Conv2d(32, 16, kernel_size=(3, 3), stride=(1, 1), padding=(1, 1))\n",
      "    (30): Conv2d(16, 2, kernel_size=(3, 3), stride=(1, 1), padding=(1, 1))\n",
      "    (31): Tanh()\n",
      "    (32): Upsample(size=(256, 256), mode=nearest)\n",
      "  )\n",
      ")\n"
     ]
    },
    {
     "data": {
      "text/plain": [
       "Encoder_Decoder(\n",
       "  (network): Sequential(\n",
       "    (0): Conv2d(1, 64, kernel_size=(3, 3), stride=(2, 2), padding=(1, 1))\n",
       "    (1): ReLU()\n",
       "    (2): BatchNorm2d(64, eps=1e-05, momentum=0.1, affine=True, track_running_stats=True)\n",
       "    (3): Conv2d(64, 128, kernel_size=(3, 3), stride=(1, 1), padding=(1, 1))\n",
       "    (4): ReLU()\n",
       "    (5): BatchNorm2d(128, eps=1e-05, momentum=0.1, affine=True, track_running_stats=True)\n",
       "    (6): Conv2d(128, 128, kernel_size=(3, 3), stride=(2, 2), padding=(1, 1))\n",
       "    (7): ReLU()\n",
       "    (8): BatchNorm2d(128, eps=1e-05, momentum=0.1, affine=True, track_running_stats=True)\n",
       "    (9): Conv2d(128, 256, kernel_size=(3, 3), stride=(1, 1), padding=(1, 1))\n",
       "    (10): ReLU()\n",
       "    (11): BatchNorm2d(256, eps=1e-05, momentum=0.1, affine=True, track_running_stats=True)\n",
       "    (12): Conv2d(256, 256, kernel_size=(3, 3), stride=(2, 2), padding=(1, 1))\n",
       "    (13): ReLU()\n",
       "    (14): BatchNorm2d(256, eps=1e-05, momentum=0.1, affine=True, track_running_stats=True)\n",
       "    (15): Conv2d(256, 512, kernel_size=(3, 3), stride=(1, 1), padding=(1, 1))\n",
       "    (16): ReLU()\n",
       "    (17): BatchNorm2d(512, eps=1e-05, momentum=0.1, affine=True, track_running_stats=True)\n",
       "    (18): Conv2d(512, 512, kernel_size=(3, 3), stride=(1, 1), padding=(1, 1))\n",
       "    (19): ReLU()\n",
       "    (20): BatchNorm2d(512, eps=1e-05, momentum=0.1, affine=True, track_running_stats=True)\n",
       "    (21): Conv2d(512, 256, kernel_size=(3, 3), stride=(1, 1), padding=(1, 1))\n",
       "    (22): ReLU()\n",
       "    (23): BatchNorm2d(256, eps=1e-05, momentum=0.1, affine=True, track_running_stats=True)\n",
       "    (24): Conv2d(256, 128, kernel_size=(3, 3), stride=(1, 1), padding=(1, 1))\n",
       "    (25): Upsample(size=(64, 64), mode=nearest)\n",
       "    (26): Conv2d(128, 64, kernel_size=(3, 3), stride=(1, 1), padding=(1, 1))\n",
       "    (27): Upsample(size=(128, 128), mode=nearest)\n",
       "    (28): Conv2d(64, 32, kernel_size=(3, 3), stride=(1, 1), padding=(1, 1))\n",
       "    (29): Conv2d(32, 16, kernel_size=(3, 3), stride=(1, 1), padding=(1, 1))\n",
       "    (30): Conv2d(16, 2, kernel_size=(3, 3), stride=(1, 1), padding=(1, 1))\n",
       "    (31): Tanh()\n",
       "    (32): Upsample(size=(256, 256), mode=nearest)\n",
       "  )\n",
       ")"
      ]
     },
     "execution_count": 24,
     "metadata": {},
     "output_type": "execute_result"
    }
   ],
   "source": [
    "model = load_checkpoint('../input/testing/test21.pth')\n",
    "print(model)\n",
    "to_device(model, device)"
   ]
  },
  {
   "cell_type": "markdown",
   "execution_count": null,
   "metadata": {
    "papermill": {
     "duration": 0.013727,
     "end_time": "2020-08-22T18:02:14.459531",
     "exception": false,
     "start_time": "2020-08-22T18:02:14.445804",
     "status": "completed"
    },
    "tags": []
   },
   "source": [
    "# Testing the Model\n",
    "Combining the L channel and the predicted ab channels and converting it to RGB to obtain the final colour image."
   ]
  },
  {
   "cell_type": "code",
   "execution_count": 25,
   "metadata": {
    "execution": {
     "iopub.execute_input": "2020-08-22T18:02:14.496346Z",
     "iopub.status.busy": "2020-08-22T18:02:14.495003Z",
     "iopub.status.idle": "2020-08-22T18:02:14.497577Z",
     "shell.execute_reply": "2020-08-22T18:02:14.498060Z"
    },
    "papermill": {
     "duration": 0.024662,
     "end_time": "2020-08-22T18:02:14.498174",
     "exception": false,
     "start_time": "2020-08-22T18:02:14.473512",
     "status": "completed"
    },
    "tags": []
   },
   "outputs": [],
   "source": [
    "def to_rgb(grayscale_input, ab_output, save_path=None, save_name=None):\n",
    "    color_image = torch.cat((grayscale_input, ab_output), 0).numpy() # combine channels\n",
    "    color_image = color_image.transpose((1, 2, 0))  # rescale for matplotlib\n",
    "    color_image[:, :, 0:1] = color_image[:, :, 0:1]\n",
    "    color_image[:, :, 1:3] = (color_image[:, :, 1:3]) * 128\n",
    "    color_image = lab2rgb(color_image.astype(np.float64))\n",
    "    grayscale_input = grayscale_input.squeeze().numpy()\n",
    "    return color_image"
   ]
  },
  {
   "cell_type": "markdown",
   "execution_count": null,
   "metadata": {
    "papermill": {
     "duration": 0.013656,
     "end_time": "2020-08-22T18:02:14.525892",
     "exception": false,
     "start_time": "2020-08-22T18:02:14.512236",
     "status": "completed"
    },
    "tags": []
   },
   "source": [
    "Given a black and white image with 3 channels(R==G==B), converting it to Lab and giving the L channel as input to predict the ab channels and finally, obtaining the predicted coloured version of the image."
   ]
  },
  {
   "cell_type": "code",
   "execution_count": 26,
   "metadata": {
    "execution": {
     "iopub.execute_input": "2020-08-22T18:02:14.561284Z",
     "iopub.status.busy": "2020-08-22T18:02:14.560510Z",
     "iopub.status.idle": "2020-08-22T18:02:14.564453Z",
     "shell.execute_reply": "2020-08-22T18:02:14.564006Z"
    },
    "papermill": {
     "duration": 0.024798,
     "end_time": "2020-08-22T18:02:14.564547",
     "exception": false,
     "start_time": "2020-08-22T18:02:14.539749",
     "status": "completed"
    },
    "tags": []
   },
   "outputs": [],
   "source": [
    "def prediction(img):\n",
    "    a = rgb2lab(img.permute(1, 2, 0))\n",
    "    a = torch.tensor(a[:,:,0]).type(torch.FloatTensor)\n",
    "    a = a.unsqueeze(0)\n",
    "    a = a.unsqueeze(0)\n",
    "    xb = to_device(a, device)\n",
    "    ab_img = model(xb)\n",
    "    xb = xb.squeeze(0)\n",
    "    ab_img = ab_img.squeeze(0)\n",
    "    return to_rgb(xb.detach().cpu(), ab_img.detach().cpu())"
   ]
  },
  {
   "cell_type": "markdown",
   "execution_count": null,
   "metadata": {
    "papermill": {
     "duration": 0.013693,
     "end_time": "2020-08-22T18:02:14.592220",
     "exception": false,
     "start_time": "2020-08-22T18:02:14.578527",
     "status": "completed"
    },
    "tags": []
   },
   "source": [
    "Testing the model on different black and white images."
   ]
  },
  {
   "cell_type": "code",
   "execution_count": 27,
   "metadata": {
    "execution": {
     "iopub.execute_input": "2020-08-22T18:02:14.625258Z",
     "iopub.status.busy": "2020-08-22T18:02:14.624337Z",
     "iopub.status.idle": "2020-08-22T18:02:14.628462Z",
     "shell.execute_reply": "2020-08-22T18:02:14.627964Z"
    },
    "papermill": {
     "duration": 0.0221,
     "end_time": "2020-08-22T18:02:14.628565",
     "exception": false,
     "start_time": "2020-08-22T18:02:14.606465",
     "status": "completed"
    },
    "tags": []
   },
   "outputs": [],
   "source": [
    "import glob\n",
    "from PIL import Image\n",
    "\n",
    "images = glob.glob(\"../input/test-images/*jpg\")"
   ]
  },
  {
   "cell_type": "code",
   "execution_count": 28,
   "metadata": {
    "execution": {
     "iopub.execute_input": "2020-08-22T18:02:14.661985Z",
     "iopub.status.busy": "2020-08-22T18:02:14.661412Z",
     "iopub.status.idle": "2020-08-22T18:02:14.859047Z",
     "shell.execute_reply": "2020-08-22T18:02:14.858413Z"
    },
    "papermill": {
     "duration": 0.216606,
     "end_time": "2020-08-22T18:02:14.859167",
     "exception": false,
     "start_time": "2020-08-22T18:02:14.642561",
     "status": "completed"
    },
    "tags": []
   },
   "outputs": [],
   "source": [
    "for img in range(len(images)):\n",
    "    image = Image.open(images[img])\n",
    "    trans1 = T.Resize((256, 256))\n",
    "    trans2 = T.ToTensor()\n",
    "    images[img] = trans2(trans1(image))"
   ]
  },
  {
   "cell_type": "code",
   "execution_count": 29,
   "metadata": {
    "execution": {
     "iopub.execute_input": "2020-08-22T18:02:14.920046Z",
     "iopub.status.busy": "2020-08-22T18:02:14.904457Z",
     "iopub.status.idle": "2020-08-22T18:02:15.411200Z",
     "shell.execute_reply": "2020-08-22T18:02:15.411691Z"
    },
    "papermill": {
     "duration": 0.53822,
     "end_time": "2020-08-22T18:02:15.411915",
     "exception": false,
     "start_time": "2020-08-22T18:02:14.873695",
     "status": "completed"
    },
    "tags": []
   },
   "outputs": [
    {
     "data": {
      "text/plain": [
       "<matplotlib.image.AxesImage at 0x7fc310d2c490>"
      ]
     },
     "execution_count": 29,
     "metadata": {},
     "output_type": "execute_result"
    },
    {
     "data": {
      "image/png": "[encoded data removed]",
      "text/plain": [
       "<Figure size 432x288 with 2 Axes>"
      ]
     },
     "metadata": {
      "needs_background": "light"
     },
     "output_type": "display_data"
    }
   ],
   "source": [
    "img = images[1]\n",
    "f, arr = plt.subplots(1, 2, sharey=True)\n",
    "arr[0].imshow(img.permute(1, 2, 0))\n",
    "arr[1].imshow(prediction(img))"
   ]
  },
  {
   "cell_type": "code",
   "execution_count": null,
   "metadata": {
    "papermill": {
     "duration": 0.015471,
     "end_time": "2020-08-22T18:02:15.443913",
     "exception": false,
     "start_time": "2020-08-22T18:02:15.428442",
     "status": "completed"
    },
    "tags": []
   },
   "outputs": [],
   "source": []
  }
 ],
 "metadata": {
  "kernelspec": {
   "display_name": "Python 3",
   "language": "python",
   "name": "python3"
  },
  "language_info": {
   "codemirror_mode": {
    "name": "ipython",
    "version": 3
   },
   "file_extension": ".py",
   "mimetype": "text/x-python",
   "name": "python",
   "nbconvert_exporter": "python",
   "pygments_lexer": "ipython3",
   "version": "3.7.6"
  },
  "papermill": {
   "duration": 11438.771164,
   "end_time": "2020-08-22T18:02:16.820391",
   "environment_variables": {},
   "exception": null,
   "input_path": "__notebook__.ipynb",
   "output_path": "__notebook__.ipynb",
   "parameters": {},
   "start_time": "2020-08-22T14:51:38.049227",
   "version": "2.1.0"
  },
  "widgets": {
   "application/vnd.jupyter.widget-state+json": {
    "state": {
     "03680170a9584c318e21dbea05907944": {
      "model_module": "@jupyter-widgets/controls",
      "model_module_version": "1.5.0",
      "model_name": "DescriptionStyleModel",
      "state": {
       "_model_module": "@jupyter-widgets/controls",
       "_model_module_version": "1.5.0",
       "_model_name": "DescriptionStyleModel",
       "_view_count": null,
       "_view_module": "@jupyter-widgets/base",
       "_view_module_version": "1.2.0",
       "_view_name": "StyleView",
       "description_width": ""
      }
     },
     "0739ed54117a4c49bc6f6d2429d7886f": {
      "model_module": "@jupyter-widgets/base",
      "model_module_version": "1.2.0",
      "model_name": "LayoutModel",
      "state": {
       "_model_module": "@jupyter-widgets/base",
       "_model_module_version": "1.2.0",
       "_model_name": "LayoutModel",
       "_view_count": null,
       "_view_module": "@jupyter-widgets/base",
       "_view_module_version": "1.2.0",
       "_view_name": "LayoutView",
       "align_content": null,
       "align_items": null,
       "align_self": null,
       "border": null,
       "bottom": null,
       "display": null,
       "flex": null,
       "flex_flow": null,
       "grid_area": null,
       "grid_auto_columns": null,
       "grid_auto_flow": null,
       "grid_auto_rows": null,
       "grid_column": null,
       "grid_gap": null,
       "grid_row": null,
       "grid_template_areas": null,
       "grid_template_columns": null,
       "grid_template_rows": null,
       "height": null,
       "justify_content": null,
       "justify_items": null,
       "left": null,
       "margin": null,
       "max_height": null,
       "max_width": null,
       "min_height": null,
       "min_width": null,
       "object_fit": null,
       "object_position": null,
       "order": null,
       "overflow": null,
       "overflow_x": null,
       "overflow_y": null,
       "padding": null,
       "right": null,
       "top": null,
       "visibility": null,
       "width": null
      }
     },
     "18f0771c66094e2b9458852ff0ac5658": {
      "model_module": "@jupyter-widgets/controls",
      "model_module_version": "1.5.0",
      "model_name": "HTMLModel",
      "state": {
       "_dom_classes": [],
       "_model_module": "@jupyter-widgets/controls",
       "_model_module_version": "1.5.0",
       "_model_name": "HTMLModel",
       "_view_count": null,
       "_view_module": "@jupyter-widgets/controls",
       "_view_module_version": "1.5.0",
       "_view_name": "HTMLView",
       "description": "",
       "description_tooltip": null,
       "layout": "IPY_MODEL_ff5b73f304c44d42a7eaa278bc57fb37",
       "placeholder": "​",
       "style": "IPY_MODEL_29eb178c418e47b68ffb4e1bcc422c5f",
       "value": " 383/383 [1:15:41&lt;00:00, 11.86s/it]"
      }
     },
     "1ec25f617a35467796c694e7c7d5065c": {
      "model_module": "@jupyter-widgets/controls",
      "model_module_version": "1.5.0",
      "model_name": "DescriptionStyleModel",
      "state": {
       "_model_module": "@jupyter-widgets/controls",
       "_model_module_version": "1.5.0",
       "_model_name": "DescriptionStyleModel",
       "_view_count": null,
       "_view_module": "@jupyter-widgets/base",
       "_view_module_version": "1.2.0",
       "_view_name": "StyleView",
       "description_width": ""
      }
     },
     "1f252132f3fa490eb4bd256567de29de": {
      "model_module": "@jupyter-widgets/base",
      "model_module_version": "1.2.0",
      "model_name": "LayoutModel",
      "state": {
       "_model_module": "@jupyter-widgets/base",
       "_model_module_version": "1.2.0",
       "_model_name": "LayoutModel",
       "_view_count": null,
       "_view_module": "@jupyter-widgets/base",
       "_view_module_version": "1.2.0",
       "_view_name": "LayoutView",
       "align_content": null,
       "align_items": null,
       "align_self": null,
       "border": null,
       "bottom": null,
       "display": null,
       "flex": null,
       "flex_flow": null,
       "grid_area": null,
       "grid_auto_columns": null,
       "grid_auto_flow": null,
       "grid_auto_rows": null,
       "grid_column": null,
       "grid_gap": null,
       "grid_row": null,
       "grid_template_areas": null,
       "grid_template_columns": null,
       "grid_template_rows": null,
       "height": null,
       "justify_content": null,
       "justify_items": null,
       "left": null,
       "margin": null,
       "max_height": null,
       "max_width": null,
       "min_height": null,
       "min_width": null,
       "object_fit": null,
       "object_position": null,
       "order": null,
       "overflow": null,
       "overflow_x": null,
       "overflow_y": null,
       "padding": null,
       "right": null,
       "top": null,
       "visibility": null,
       "width": null
      }
     },
     "225354d2d85c491b91e203b32c2bd64a": {
      "model_module": "@jupyter-widgets/controls",
      "model_module_version": "1.5.0",
      "model_name": "HBoxModel",
      "state": {
       "_dom_classes": [],
       "_model_module": "@jupyter-widgets/controls",
       "_model_module_version": "1.5.0",
       "_model_name": "HBoxModel",
       "_view_count": null,
       "_view_module": "@jupyter-widgets/controls",
       "_view_module_version": "1.5.0",
       "_view_name": "HBoxView",
       "box_style": "",
       "children": [
        "IPY_MODEL_93505b401fa248ba89a85073df140fee",
        "IPY_MODEL_cd90c194d717454d9806d2a2d7684332"
       ],
       "layout": "IPY_MODEL_2f5b21b3542f4b62891696fa41c205fd"
      }
     },
     "29eb178c418e47b68ffb4e1bcc422c5f": {
      "model_module": "@jupyter-widgets/controls",
      "model_module_version": "1.5.0",
      "model_name": "DescriptionStyleModel",
      "state": {
       "_model_module": "@jupyter-widgets/controls",
       "_model_module_version": "1.5.0",
       "_model_name": "DescriptionStyleModel",
       "_view_count": null,
       "_view_module": "@jupyter-widgets/base",
       "_view_module_version": "1.2.0",
       "_view_name": "StyleView",
       "description_width": ""
      }
     },
     "2f5b21b3542f4b62891696fa41c205fd": {
      "model_module": "@jupyter-widgets/base",
      "model_module_version": "1.2.0",
      "model_name": "LayoutModel",
      "state": {
       "_model_module": "@jupyter-widgets/base",
       "_model_module_version": "1.2.0",
       "_model_name": "LayoutModel",
       "_view_count": null,
       "_view_module": "@jupyter-widgets/base",
       "_view_module_version": "1.2.0",
       "_view_name": "LayoutView",
       "align_content": null,
       "align_items": null,
       "align_self": null,
       "border": null,
       "bottom": null,
       "display": null,
       "flex": null,
       "flex_flow": null,
       "grid_area": null,
       "grid_auto_columns": null,
       "grid_auto_flow": null,
       "grid_auto_rows": null,
       "grid_column": null,
       "grid_gap": null,
       "grid_row": null,
       "grid_template_areas": null,
       "grid_template_columns": null,
       "grid_template_rows": null,
       "height": null,
       "justify_content": null,
       "justify_items": null,
       "left": null,
       "margin": null,
       "max_height": null,
       "max_width": null,
       "min_height": null,
       "min_width": null,
       "object_fit": null,
       "object_position": null,
       "order": null,
       "overflow": null,
       "overflow_x": null,
       "overflow_y": null,
       "padding": null,
       "right": null,
       "top": null,
       "visibility": null,
       "width": null
      }
     },
     "343882e0253c4383b011cccfe21c1fbd": {
      "model_module": "@jupyter-widgets/controls",
      "model_module_version": "1.5.0",
      "model_name": "DescriptionStyleModel",
      "state": {
       "_model_module": "@jupyter-widgets/controls",
       "_model_module_version": "1.5.0",
       "_model_name": "DescriptionStyleModel",
       "_view_count": null,
       "_view_module": "@jupyter-widgets/base",
       "_view_module_version": "1.2.0",
       "_view_name": "StyleView",
       "description_width": ""
      }
     },
     "46e021f44de14146b36d78a301e2ee4e": {
      "model_module": "@jupyter-widgets/controls",
      "model_module_version": "1.5.0",
      "model_name": "HBoxModel",
      "state": {
       "_dom_classes": [],
       "_model_module": "@jupyter-widgets/controls",
       "_model_module_version": "1.5.0",
       "_model_name": "HBoxModel",
       "_view_count": null,
       "_view_module": "@jupyter-widgets/controls",
       "_view_module_version": "1.5.0",
       "_view_name": "HBoxView",
       "box_style": "",
       "children": [
        "IPY_MODEL_e0e456e6f98e4c33815ffae8ad83c724",
        "IPY_MODEL_18f0771c66094e2b9458852ff0ac5658"
       ],
       "layout": "IPY_MODEL_62d2b1057b9f4456bc766bdfe05e39c8"
      }
     },
     "55458fcbbf844126a739f268078a449e": {
      "model_module": "@jupyter-widgets/controls",
      "model_module_version": "1.5.0",
      "model_name": "HTMLModel",
      "state": {
       "_dom_classes": [],
       "_model_module": "@jupyter-widgets/controls",
       "_model_module_version": "1.5.0",
       "_model_name": "HTMLModel",
       "_view_count": null,
       "_view_module": "@jupyter-widgets/controls",
       "_view_module_version": "1.5.0",
       "_view_name": "HTMLView",
       "description": "",
       "description_tooltip": null,
       "layout": "IPY_MODEL_5cf782ca071742e8a9b82abdd52c08af",
       "placeholder": "​",
       "style": "IPY_MODEL_03680170a9584c318e21dbea05907944",
       "value": " 383/383 [37:48&lt;00:00,  5.92s/it]"
      }
     },
     "55f7476922c04c3194d442403a4ed7b6": {
      "model_module": "@jupyter-widgets/base",
      "model_module_version": "1.2.0",
      "model_name": "LayoutModel",
      "state": {
       "_model_module": "@jupyter-widgets/base",
       "_model_module_version": "1.2.0",
       "_model_name": "LayoutModel",
       "_view_count": null,
       "_view_module": "@jupyter-widgets/base",
       "_view_module_version": "1.2.0",
       "_view_name": "LayoutView",
       "align_content": null,
       "align_items": null,
       "align_self": null,
       "border": null,
       "bottom": null,
       "display": null,
       "flex": null,
       "flex_flow": null,
       "grid_area": null,
       "grid_auto_columns": null,
       "grid_auto_flow": null,
       "grid_auto_rows": null,
       "grid_column": null,
       "grid_gap": null,
       "grid_row": null,
       "grid_template_areas": null,
       "grid_template_columns": null,
       "grid_template_rows": null,
       "height": null,
       "justify_content": null,
       "justify_items": null,
       "left": null,
       "margin": null,
       "max_height": null,
       "max_width": null,
       "min_height": null,
       "min_width": null,
       "object_fit": null,
       "object_position": null,
       "order": null,
       "overflow": null,
       "overflow_x": null,
       "overflow_y": null,
       "padding": null,
       "right": null,
       "top": null,
       "visibility": null,
       "width": null
      }
     },
     "5cf782ca071742e8a9b82abdd52c08af": {
      "model_module": "@jupyter-widgets/base",
      "model_module_version": "1.2.0",
      "model_name": "LayoutModel",
      "state": {
       "_model_module": "@jupyter-widgets/base",
       "_model_module_version": "1.2.0",
       "_model_name": "LayoutModel",
       "_view_count": null,
       "_view_module": "@jupyter-widgets/base",
       "_view_module_version": "1.2.0",
       "_view_name": "LayoutView",
       "align_content": null,
       "align_items": null,
       "align_self": null,
       "border": null,
       "bottom": null,
       "display": null,
       "flex": null,
       "flex_flow": null,
       "grid_area": null,
       "grid_auto_columns": null,
       "grid_auto_flow": null,
       "grid_auto_rows": null,
       "grid_column": null,
       "grid_gap": null,
       "grid_row": null,
       "grid_template_areas": null,
       "grid_template_columns": null,
       "grid_template_rows": null,
       "height": null,
       "justify_content": null,
       "justify_items": null,
       "left": null,
       "margin": null,
       "max_height": null,
       "max_width": null,
       "min_height": null,
       "min_width": null,
       "object_fit": null,
       "object_position": null,
       "order": null,
       "overflow": null,
       "overflow_x": null,
       "overflow_y": null,
       "padding": null,
       "right": null,
       "top": null,
       "visibility": null,
       "width": null
      }
     },
     "5f86d2e32bea43d59b5eb57881a9790e": {
      "model_module": "@jupyter-widgets/base",
      "model_module_version": "1.2.0",
      "model_name": "LayoutModel",
      "state": {
       "_model_module": "@jupyter-widgets/base",
       "_model_module_version": "1.2.0",
       "_model_name": "LayoutModel",
       "_view_count": null,
       "_view_module": "@jupyter-widgets/base",
       "_view_module_version": "1.2.0",
       "_view_name": "LayoutView",
       "align_content": null,
       "align_items": null,
       "align_self": null,
       "border": null,
       "bottom": null,
       "display": null,
       "flex": null,
       "flex_flow": null,
       "grid_area": null,
       "grid_auto_columns": null,
       "grid_auto_flow": null,
       "grid_auto_rows": null,
       "grid_column": null,
       "grid_gap": null,
       "grid_row": null,
       "grid_template_areas": null,
       "grid_template_columns": null,
       "grid_template_rows": null,
       "height": null,
       "justify_content": null,
       "justify_items": null,
       "left": null,
       "margin": null,
       "max_height": null,
       "max_width": null,
       "min_height": null,
       "min_width": null,
       "object_fit": null,
       "object_position": null,
       "order": null,
       "overflow": null,
       "overflow_x": null,
       "overflow_y": null,
       "padding": null,
       "right": null,
       "top": null,
       "visibility": null,
       "width": null
      }
     },
     "619171622075498cb0b1f2bf8e68fcc3": {
      "model_module": "@jupyter-widgets/controls",
      "model_module_version": "1.5.0",
      "model_name": "HBoxModel",
      "state": {
       "_dom_classes": [],
       "_model_module": "@jupyter-widgets/controls",
       "_model_module_version": "1.5.0",
       "_model_name": "HBoxModel",
       "_view_count": null,
       "_view_module": "@jupyter-widgets/controls",
       "_view_module_version": "1.5.0",
       "_view_name": "HBoxView",
       "box_style": "",
       "children": [
        "IPY_MODEL_df94625a432d46b99bec53811ae00238",
        "IPY_MODEL_8402b03164f247689936263a40091409"
       ],
       "layout": "IPY_MODEL_ecd0d9d1da1e4c64b78bff6107220de9"
      }
     },
     "62d2b1057b9f4456bc766bdfe05e39c8": {
      "model_module": "@jupyter-widgets/base",
      "model_module_version": "1.2.0",
      "model_name": "LayoutModel",
      "state": {
       "_model_module": "@jupyter-widgets/base",
       "_model_module_version": "1.2.0",
       "_model_name": "LayoutModel",
       "_view_count": null,
       "_view_module": "@jupyter-widgets/base",
       "_view_module_version": "1.2.0",
       "_view_name": "LayoutView",
       "align_content": null,
       "align_items": null,
       "align_self": null,
       "border": null,
       "bottom": null,
       "display": null,
       "flex": null,
       "flex_flow": null,
       "grid_area": null,
       "grid_auto_columns": null,
       "grid_auto_flow": null,
       "grid_auto_rows": null,
       "grid_column": null,
       "grid_gap": null,
       "grid_row": null,
       "grid_template_areas": null,
       "grid_template_columns": null,
       "grid_template_rows": null,
       "height": null,
       "justify_content": null,
       "justify_items": null,
       "left": null,
       "margin": null,
       "max_height": null,
       "max_width": null,
       "min_height": null,
       "min_width": null,
       "object_fit": null,
       "object_position": null,
       "order": null,
       "overflow": null,
       "overflow_x": null,
       "overflow_y": null,
       "padding": null,
       "right": null,
       "top": null,
       "visibility": null,
       "width": null
      }
     },
     "68f75459bf154b5eb2f9cb7a7aad8aa9": {
      "model_module": "@jupyter-widgets/base",
      "model_module_version": "1.2.0",
      "model_name": "LayoutModel",
      "state": {
       "_model_module": "@jupyter-widgets/base",
       "_model_module_version": "1.2.0",
       "_model_name": "LayoutModel",
       "_view_count": null,
       "_view_module": "@jupyter-widgets/base",
       "_view_module_version": "1.2.0",
       "_view_name": "LayoutView",
       "align_content": null,
       "align_items": null,
       "align_self": null,
       "border": null,
       "bottom": null,
       "display": null,
       "flex": null,
       "flex_flow": null,
       "grid_area": null,
       "grid_auto_columns": null,
       "grid_auto_flow": null,
       "grid_auto_rows": null,
       "grid_column": null,
       "grid_gap": null,
       "grid_row": null,
       "grid_template_areas": null,
       "grid_template_columns": null,
       "grid_template_rows": null,
       "height": null,
       "justify_content": null,
       "justify_items": null,
       "left": null,
       "margin": null,
       "max_height": null,
       "max_width": null,
       "min_height": null,
       "min_width": null,
       "object_fit": null,
       "object_position": null,
       "order": null,
       "overflow": null,
       "overflow_x": null,
       "overflow_y": null,
       "padding": null,
       "right": null,
       "top": null,
       "visibility": null,
       "width": null
      }
     },
     "74237896970e4c40aebf29623108fb52": {
      "model_module": "@jupyter-widgets/controls",
      "model_module_version": "1.5.0",
      "model_name": "ProgressStyleModel",
      "state": {
       "_model_module": "@jupyter-widgets/controls",
       "_model_module_version": "1.5.0",
       "_model_name": "ProgressStyleModel",
       "_view_count": null,
       "_view_module": "@jupyter-widgets/base",
       "_view_module_version": "1.2.0",
       "_view_name": "StyleView",
       "bar_color": null,
       "description_width": "initial"
      }
     },
     "753a089c287d46548804449ae5b6c0b5": {
      "model_module": "@jupyter-widgets/base",
      "model_module_version": "1.2.0",
      "model_name": "LayoutModel",
      "state": {
       "_model_module": "@jupyter-widgets/base",
       "_model_module_version": "1.2.0",
       "_model_name": "LayoutModel",
       "_view_count": null,
       "_view_module": "@jupyter-widgets/base",
       "_view_module_version": "1.2.0",
       "_view_name": "LayoutView",
       "align_content": null,
       "align_items": null,
       "align_self": null,
       "border": null,
       "bottom": null,
       "display": null,
       "flex": null,
       "flex_flow": null,
       "grid_area": null,
       "grid_auto_columns": null,
       "grid_auto_flow": null,
       "grid_auto_rows": null,
       "grid_column": null,
       "grid_gap": null,
       "grid_row": null,
       "grid_template_areas": null,
       "grid_template_columns": null,
       "grid_template_rows": null,
       "height": null,
       "justify_content": null,
       "justify_items": null,
       "left": null,
       "margin": null,
       "max_height": null,
       "max_width": null,
       "min_height": null,
       "min_width": null,
       "object_fit": null,
       "object_position": null,
       "order": null,
       "overflow": null,
       "overflow_x": null,
       "overflow_y": null,
       "padding": null,
       "right": null,
       "top": null,
       "visibility": null,
       "width": null
      }
     },
     "777ea77335684a1caff9f040e8641932": {
      "model_module": "@jupyter-widgets/controls",
      "model_module_version": "1.5.0",
      "model_name": "FloatProgressModel",
      "state": {
       "_dom_classes": [],
       "_model_module": "@jupyter-widgets/controls",
       "_model_module_version": "1.5.0",
       "_model_name": "FloatProgressModel",
       "_view_count": null,
       "_view_module": "@jupyter-widgets/controls",
       "_view_module_version": "1.5.0",
       "_view_name": "ProgressView",
       "bar_style": "success",
       "description": "100%",
       "description_tooltip": null,
       "layout": "IPY_MODEL_b43120fa2c3f4a46a946c3afee2b9690",
       "max": 383.0,
       "min": 0.0,
       "orientation": "horizontal",
       "style": "IPY_MODEL_ab8b2e92183c46f187d258524e4bf290",
       "value": 383.0
      }
     },
     "7f7e081515314aff9a3961d0feabdc53": {
      "model_module": "@jupyter-widgets/controls",
      "model_module_version": "1.5.0",
      "model_name": "ProgressStyleModel",
      "state": {
       "_model_module": "@jupyter-widgets/controls",
       "_model_module_version": "1.5.0",
       "_model_name": "ProgressStyleModel",
       "_view_count": null,
       "_view_module": "@jupyter-widgets/base",
       "_view_module_version": "1.2.0",
       "_view_name": "StyleView",
       "bar_color": null,
       "description_width": "initial"
      }
     },
     "8402b03164f247689936263a40091409": {
      "model_module": "@jupyter-widgets/controls",
      "model_module_version": "1.5.0",
      "model_name": "HTMLModel",
      "state": {
       "_dom_classes": [],
       "_model_module": "@jupyter-widgets/controls",
       "_model_module_version": "1.5.0",
       "_model_name": "HTMLModel",
       "_view_count": null,
       "_view_module": "@jupyter-widgets/controls",
       "_view_module_version": "1.5.0",
       "_view_name": "HTMLView",
       "description": "",
       "description_tooltip": null,
       "layout": "IPY_MODEL_68f75459bf154b5eb2f9cb7a7aad8aa9",
       "placeholder": "​",
       "style": "IPY_MODEL_343882e0253c4383b011cccfe21c1fbd",
       "value": " 383/383 [1:53:53&lt;00:00, 17.84s/it]"
      }
     },
     "93505b401fa248ba89a85073df140fee": {
      "model_module": "@jupyter-widgets/controls",
      "model_module_version": "1.5.0",
      "model_name": "FloatProgressModel",
      "state": {
       "_dom_classes": [],
       "_model_module": "@jupyter-widgets/controls",
       "_model_module_version": "1.5.0",
       "_model_name": "FloatProgressModel",
       "_view_count": null,
       "_view_module": "@jupyter-widgets/controls",
       "_view_module_version": "1.5.0",
       "_view_name": "ProgressView",
       "bar_style": "success",
       "description": "100%",
       "description_tooltip": null,
       "layout": "IPY_MODEL_5f86d2e32bea43d59b5eb57881a9790e",
       "max": 383.0,
       "min": 0.0,
       "orientation": "horizontal",
       "style": "IPY_MODEL_cf744140679d4a508feddba0b5611dfa",
       "value": 383.0
      }
     },
     "9931c618d54f42e6afc011566021c41f": {
      "model_module": "@jupyter-widgets/base",
      "model_module_version": "1.2.0",
      "model_name": "LayoutModel",
      "state": {
       "_model_module": "@jupyter-widgets/base",
       "_model_module_version": "1.2.0",
       "_model_name": "LayoutModel",
       "_view_count": null,
       "_view_module": "@jupyter-widgets/base",
       "_view_module_version": "1.2.0",
       "_view_name": "LayoutView",
       "align_content": null,
       "align_items": null,
       "align_self": null,
       "border": null,
       "bottom": null,
       "display": null,
       "flex": null,
       "flex_flow": null,
       "grid_area": null,
       "grid_auto_columns": null,
       "grid_auto_flow": null,
       "grid_auto_rows": null,
       "grid_column": null,
       "grid_gap": null,
       "grid_row": null,
       "grid_template_areas": null,
       "grid_template_columns": null,
       "grid_template_rows": null,
       "height": null,
       "justify_content": null,
       "justify_items": null,
       "left": null,
       "margin": null,
       "max_height": null,
       "max_width": null,
       "min_height": null,
       "min_width": null,
       "object_fit": null,
       "object_position": null,
       "order": null,
       "overflow": null,
       "overflow_x": null,
       "overflow_y": null,
       "padding": null,
       "right": null,
       "top": null,
       "visibility": null,
       "width": null
      }
     },
     "a104ba969fa145d8abb0795467d19678": {
      "model_module": "@jupyter-widgets/controls",
      "model_module_version": "1.5.0",
      "model_name": "ProgressStyleModel",
      "state": {
       "_model_module": "@jupyter-widgets/controls",
       "_model_module_version": "1.5.0",
       "_model_name": "ProgressStyleModel",
       "_view_count": null,
       "_view_module": "@jupyter-widgets/base",
       "_view_module_version": "1.2.0",
       "_view_name": "StyleView",
       "bar_color": null,
       "description_width": "initial"
      }
     },
     "ab8b2e92183c46f187d258524e4bf290": {
      "model_module": "@jupyter-widgets/controls",
      "model_module_version": "1.5.0",
      "model_name": "ProgressStyleModel",
      "state": {
       "_model_module": "@jupyter-widgets/controls",
       "_model_module_version": "1.5.0",
       "_model_name": "ProgressStyleModel",
       "_view_count": null,
       "_view_module": "@jupyter-widgets/base",
       "_view_module_version": "1.2.0",
       "_view_name": "StyleView",
       "bar_color": null,
       "description_width": "initial"
      }
     },
     "b43120fa2c3f4a46a946c3afee2b9690": {
      "model_module": "@jupyter-widgets/base",
      "model_module_version": "1.2.0",
      "model_name": "LayoutModel",
      "state": {
       "_model_module": "@jupyter-widgets/base",
       "_model_module_version": "1.2.0",
       "_model_name": "LayoutModel",
       "_view_count": null,
       "_view_module": "@jupyter-widgets/base",
       "_view_module_version": "1.2.0",
       "_view_name": "LayoutView",
       "align_content": null,
       "align_items": null,
       "align_self": null,
       "border": null,
       "bottom": null,
       "display": null,
       "flex": null,
       "flex_flow": null,
       "grid_area": null,
       "grid_auto_columns": null,
       "grid_auto_flow": null,
       "grid_auto_rows": null,
       "grid_column": null,
       "grid_gap": null,
       "grid_row": null,
       "grid_template_areas": null,
       "grid_template_columns": null,
       "grid_template_rows": null,
       "height": null,
       "justify_content": null,
       "justify_items": null,
       "left": null,
       "margin": null,
       "max_height": null,
       "max_width": null,
       "min_height": null,
       "min_width": null,
       "object_fit": null,
       "object_position": null,
       "order": null,
       "overflow": null,
       "overflow_x": null,
       "overflow_y": null,
       "padding": null,
       "right": null,
       "top": null,
       "visibility": null,
       "width": null
      }
     },
     "b94259ba630d46ea81309127c3893e94": {
      "model_module": "@jupyter-widgets/controls",
      "model_module_version": "1.5.0",
      "model_name": "HBoxModel",
      "state": {
       "_dom_classes": [],
       "_model_module": "@jupyter-widgets/controls",
       "_model_module_version": "1.5.0",
       "_model_name": "HBoxModel",
       "_view_count": null,
       "_view_module": "@jupyter-widgets/controls",
       "_view_module_version": "1.5.0",
       "_view_name": "HBoxView",
       "box_style": "",
       "children": [
        "IPY_MODEL_777ea77335684a1caff9f040e8641932",
        "IPY_MODEL_cdc0a371c3c946c5b6d2f4a38dfc8222"
       ],
       "layout": "IPY_MODEL_55f7476922c04c3194d442403a4ed7b6"
      }
     },
     "b9f4aefb12dd4fb7a2fba3481ea5dc58": {
      "model_module": "@jupyter-widgets/base",
      "model_module_version": "1.2.0",
      "model_name": "LayoutModel",
      "state": {
       "_model_module": "@jupyter-widgets/base",
       "_model_module_version": "1.2.0",
       "_model_name": "LayoutModel",
       "_view_count": null,
       "_view_module": "@jupyter-widgets/base",
       "_view_module_version": "1.2.0",
       "_view_name": "LayoutView",
       "align_content": null,
       "align_items": null,
       "align_self": null,
       "border": null,
       "bottom": null,
       "display": null,
       "flex": null,
       "flex_flow": null,
       "grid_area": null,
       "grid_auto_columns": null,
       "grid_auto_flow": null,
       "grid_auto_rows": null,
       "grid_column": null,
       "grid_gap": null,
       "grid_row": null,
       "grid_template_areas": null,
       "grid_template_columns": null,
       "grid_template_rows": null,
       "height": null,
       "justify_content": null,
       "justify_items": null,
       "left": null,
       "margin": null,
       "max_height": null,
       "max_width": null,
       "min_height": null,
       "min_width": null,
       "object_fit": null,
       "object_position": null,
       "order": null,
       "overflow": null,
       "overflow_x": null,
       "overflow_y": null,
       "padding": null,
       "right": null,
       "top": null,
       "visibility": null,
       "width": null
      }
     },
     "cd90c194d717454d9806d2a2d7684332": {
      "model_module": "@jupyter-widgets/controls",
      "model_module_version": "1.5.0",
      "model_name": "HTMLModel",
      "state": {
       "_dom_classes": [],
       "_model_module": "@jupyter-widgets/controls",
       "_model_module_version": "1.5.0",
       "_model_name": "HTMLModel",
       "_view_count": null,
       "_view_module": "@jupyter-widgets/controls",
       "_view_module_version": "1.5.0",
       "_view_name": "HTMLView",
       "description": "",
       "description_tooltip": null,
       "layout": "IPY_MODEL_b9f4aefb12dd4fb7a2fba3481ea5dc58",
       "placeholder": "​",
       "style": "IPY_MODEL_d24f3df47f0946c985758c794d51abe4",
       "value": " 383/383 [2:31:44&lt;00:00, 23.77s/it]"
      }
     },
     "cdc0a371c3c946c5b6d2f4a38dfc8222": {
      "model_module": "@jupyter-widgets/controls",
      "model_module_version": "1.5.0",
      "model_name": "HTMLModel",
      "state": {
       "_dom_classes": [],
       "_model_module": "@jupyter-widgets/controls",
       "_model_module_version": "1.5.0",
       "_model_name": "HTMLModel",
       "_view_count": null,
       "_view_module": "@jupyter-widgets/controls",
       "_view_module_version": "1.5.0",
       "_view_name": "HTMLView",
       "description": "",
       "description_tooltip": null,
       "layout": "IPY_MODEL_753a089c287d46548804449ae5b6c0b5",
       "placeholder": "​",
       "style": "IPY_MODEL_1ec25f617a35467796c694e7c7d5065c",
       "value": " 383/383 [37:22&lt;00:00,  5.85s/it]"
      }
     },
     "cf744140679d4a508feddba0b5611dfa": {
      "model_module": "@jupyter-widgets/controls",
      "model_module_version": "1.5.0",
      "model_name": "ProgressStyleModel",
      "state": {
       "_model_module": "@jupyter-widgets/controls",
       "_model_module_version": "1.5.0",
       "_model_name": "ProgressStyleModel",
       "_view_count": null,
       "_view_module": "@jupyter-widgets/base",
       "_view_module_version": "1.2.0",
       "_view_name": "StyleView",
       "bar_color": null,
       "description_width": "initial"
      }
     },
     "d150abcbf63b4a15b138443721df6cbe": {
      "model_module": "@jupyter-widgets/controls",
      "model_module_version": "1.5.0",
      "model_name": "HBoxModel",
      "state": {
       "_dom_classes": [],
       "_model_module": "@jupyter-widgets/controls",
       "_model_module_version": "1.5.0",
       "_model_name": "HBoxModel",
       "_view_count": null,
       "_view_module": "@jupyter-widgets/controls",
       "_view_module_version": "1.5.0",
       "_view_name": "HBoxView",
       "box_style": "",
       "children": [
        "IPY_MODEL_e4e06c911dd346739b482f334769a8bc",
        "IPY_MODEL_55458fcbbf844126a739f268078a449e"
       ],
       "layout": "IPY_MODEL_0739ed54117a4c49bc6f6d2429d7886f"
      }
     },
     "d24f3df47f0946c985758c794d51abe4": {
      "model_module": "@jupyter-widgets/controls",
      "model_module_version": "1.5.0",
      "model_name": "DescriptionStyleModel",
      "state": {
       "_model_module": "@jupyter-widgets/controls",
       "_model_module_version": "1.5.0",
       "_model_name": "DescriptionStyleModel",
       "_view_count": null,
       "_view_module": "@jupyter-widgets/base",
       "_view_module_version": "1.2.0",
       "_view_name": "StyleView",
       "description_width": ""
      }
     },
     "de798e34a73c431aaca3d01f0d9b7128": {
      "model_module": "@jupyter-widgets/base",
      "model_module_version": "1.2.0",
      "model_name": "LayoutModel",
      "state": {
       "_model_module": "@jupyter-widgets/base",
       "_model_module_version": "1.2.0",
       "_model_name": "LayoutModel",
       "_view_count": null,
       "_view_module": "@jupyter-widgets/base",
       "_view_module_version": "1.2.0",
       "_view_name": "LayoutView",
       "align_content": null,
       "align_items": null,
       "align_self": null,
       "border": null,
       "bottom": null,
       "display": null,
       "flex": null,
       "flex_flow": null,
       "grid_area": null,
       "grid_auto_columns": null,
       "grid_auto_flow": null,
       "grid_auto_rows": null,
       "grid_column": null,
       "grid_gap": null,
       "grid_row": null,
       "grid_template_areas": null,
       "grid_template_columns": null,
       "grid_template_rows": null,
       "height": null,
       "justify_content": null,
       "justify_items": null,
       "left": null,
       "margin": null,
       "max_height": null,
       "max_width": null,
       "min_height": null,
       "min_width": null,
       "object_fit": null,
       "object_position": null,
       "order": null,
       "overflow": null,
       "overflow_x": null,
       "overflow_y": null,
       "padding": null,
       "right": null,
       "top": null,
       "visibility": null,
       "width": null
      }
     },
     "df94625a432d46b99bec53811ae00238": {
      "model_module": "@jupyter-widgets/controls",
      "model_module_version": "1.5.0",
      "model_name": "FloatProgressModel",
      "state": {
       "_dom_classes": [],
       "_model_module": "@jupyter-widgets/controls",
       "_model_module_version": "1.5.0",
       "_model_name": "FloatProgressModel",
       "_view_count": null,
       "_view_module": "@jupyter-widgets/controls",
       "_view_module_version": "1.5.0",
       "_view_name": "ProgressView",
       "bar_style": "success",
       "description": "100%",
       "description_tooltip": null,
       "layout": "IPY_MODEL_9931c618d54f42e6afc011566021c41f",
       "max": 383.0,
       "min": 0.0,
       "orientation": "horizontal",
       "style": "IPY_MODEL_7f7e081515314aff9a3961d0feabdc53",
       "value": 383.0
      }
     },
     "e0e456e6f98e4c33815ffae8ad83c724": {
      "model_module": "@jupyter-widgets/controls",
      "model_module_version": "1.5.0",
      "model_name": "FloatProgressModel",
      "state": {
       "_dom_classes": [],
       "_model_module": "@jupyter-widgets/controls",
       "_model_module_version": "1.5.0",
       "_model_name": "FloatProgressModel",
       "_view_count": null,
       "_view_module": "@jupyter-widgets/controls",
       "_view_module_version": "1.5.0",
       "_view_name": "ProgressView",
       "bar_style": "success",
       "description": "100%",
       "description_tooltip": null,
       "layout": "IPY_MODEL_1f252132f3fa490eb4bd256567de29de",
       "max": 383.0,
       "min": 0.0,
       "orientation": "horizontal",
       "style": "IPY_MODEL_a104ba969fa145d8abb0795467d19678",
       "value": 383.0
      }
     },
     "e4e06c911dd346739b482f334769a8bc": {
      "model_module": "@jupyter-widgets/controls",
      "model_module_version": "1.5.0",
      "model_name": "FloatProgressModel",
      "state": {
       "_dom_classes": [],
       "_model_module": "@jupyter-widgets/controls",
       "_model_module_version": "1.5.0",
       "_model_name": "FloatProgressModel",
       "_view_count": null,
       "_view_module": "@jupyter-widgets/controls",
       "_view_module_version": "1.5.0",
       "_view_name": "ProgressView",
       "bar_style": "success",
       "description": "100%",
       "description_tooltip": null,
       "layout": "IPY_MODEL_de798e34a73c431aaca3d01f0d9b7128",
       "max": 383.0,
       "min": 0.0,
       "orientation": "horizontal",
       "style": "IPY_MODEL_74237896970e4c40aebf29623108fb52",
       "value": 383.0
      }
     },
     "ecd0d9d1da1e4c64b78bff6107220de9": {
      "model_module": "@jupyter-widgets/base",
      "model_module_version": "1.2.0",
      "model_name": "LayoutModel",
      "state": {
       "_model_module": "@jupyter-widgets/base",
       "_model_module_version": "1.2.0",
       "_model_name": "LayoutModel",
       "_view_count": null,
       "_view_module": "@jupyter-widgets/base",
       "_view_module_version": "1.2.0",
       "_view_name": "LayoutView",
       "align_content": null,
       "align_items": null,
       "align_self": null,
       "border": null,
       "bottom": null,
       "display": null,
       "flex": null,
       "flex_flow": null,
       "grid_area": null,
       "grid_auto_columns": null,
       "grid_auto_flow": null,
       "grid_auto_rows": null,
       "grid_column": null,
       "grid_gap": null,
       "grid_row": null,
       "grid_template_areas": null,
       "grid_template_columns": null,
       "grid_template_rows": null,
       "height": null,
       "justify_content": null,
       "justify_items": null,
       "left": null,
       "margin": null,
       "max_height": null,
       "max_width": null,
       "min_height": null,
       "min_width": null,
       "object_fit": null,
       "object_position": null,
       "order": null,
       "overflow": null,
       "overflow_x": null,
       "overflow_y": null,
       "padding": null,
       "right": null,
       "top": null,
       "visibility": null,
       "width": null
      }
     },
     "ff5b73f304c44d42a7eaa278bc57fb37": {
      "model_module": "@jupyter-widgets/base",
      "model_module_version": "1.2.0",
      "model_name": "LayoutModel",
      "state": {
       "_model_module": "@jupyter-widgets/base",
       "_model_module_version": "1.2.0",
       "_model_name": "LayoutModel",
       "_view_count": null,
       "_view_module": "@jupyter-widgets/base",
       "_view_module_version": "1.2.0",
       "_view_name": "LayoutView",
       "align_content": null,
       "align_items": null,
       "align_self": null,
       "border": null,
       "bottom": null,
       "display": null,
       "flex": null,
       "flex_flow": null,
       "grid_area": null,
       "grid_auto_columns": null,
       "grid_auto_flow": null,
       "grid_auto_rows": null,
       "grid_column": null,
       "grid_gap": null,
       "grid_row": null,
       "grid_template_areas": null,
       "grid_template_columns": null,
       "grid_template_rows": null,
       "height": null,
       "justify_content": null,
       "justify_items": null,
       "left": null,
       "margin": null,
       "max_height": null,
       "max_width": null,
       "min_height": null,
       "min_width": null,
       "object_fit": null,
       "object_position": null,
       "order": null,
       "overflow": null,
       "overflow_x": null,
       "overflow_y": null,
       "padding": null,
       "right": null,
       "top": null,
       "visibility": null,
       "width": null
      }
     }
    },
    "version_major": 2,
    "version_minor": 0
   }
  }
 },
 "nbformat": 4,
 "nbformat_minor": 4
}
